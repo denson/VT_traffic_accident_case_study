{
 "cells": [
  {
   "cell_type": "markdown",
   "metadata": {},
   "source": [
    "# Traffic Safety Analytics Case Study\n",
    "\n",
    "### This is designed to be a case study of a real data analytics project. \n",
    "\n",
    "> ### 1. Project management\n",
    "> ### 2. Computational and Data resource management\n",
    "> ### 3. Analytics and modeling\n",
    "> ### 4. Deployment and usage\n",
    "\n",
    "![I-89 Vermont](I-89_Vermont.jpg \"I-89 Vermont\")\n",
    "\n"
   ]
  },
  {
   "cell_type": "markdown",
   "metadata": {},
   "source": [
    "# Business Value\n",
    "\n",
    "### This will be a fairly complex project so we need a framework for measuring costs and benefits.\n",
    "\n",
    "## The V's of Data\n",
    "\n",
    "###  `Value`         - Some measureable value we extract from data\n",
    "\n",
    "#### Our goal is to extract as much `value` as possible while minimizing cost:\n",
    "\n",
    "> #### 1. `Volume`        - The size of the data \n",
    "> #### 2. `Variety`       - The different types of data\n",
    "> #### 3. `Veracity`      - The trustworthiness of the data in terms of accuracy\n",
    "> #### 4. `Velocity`      - The speed at which the data is generated\n",
    "> #### 5. `Visualization` - The data in a manner that is readable and accessible\n",
    "> #### 6. `Variability`   - The meaning or structure of new data changes over time\n",
    "\n",
    "Each of the V's has a tradeoff in value vs cost. For example, retaining lots of data for a long time means added storage cost. Whether the storage cost is worth it depends upon the value we extract from the data. Consider that we might not be aware today of the future value containined in the data.\n",
    "\n",
    "\n"
   ]
  },
  {
   "cell_type": "markdown",
   "metadata": {},
   "source": [
    "## Project Management Methodologies\n",
    "\n",
    "\n",
    "[![CRISP-DM](400px-CRISP-DM_Process_Diagram.png \"CRISP-DM methodology\")](https://en.wikipedia.org/wiki/Cross-industry_standard_process_for_data_mining)\n",
    "\n",
    "We use CRISP-DM methodology to feed Agile roadmaps.\n",
    "\n",
    "\n",
    "[![Agile](Agile_Project_Management_by_Planbox.png \"Agile methodology\")](https://en.wikipedia.org/wiki/Iterative_and_incremental_development)\n",
    "\n",
    "\n",
    "\n"
   ]
  },
  {
   "cell_type": "markdown",
   "metadata": {},
   "source": [
    "\n",
    "# The Data\n",
    "\n",
    "We will be integrating traffic accident data with weather data and a variety of images and other data from Mapillary.\n",
    "\n",
    "[![Vermont Open Geodata Portal](VT_geodata_portal.png \"Vermont Open Geodata Portal\")](http://geodata.vermont.gov/datasets/VTrans::vt-crashes-2016)\n",
    "\n",
    "[![NOAA's National Centers for Environmental Information (NCEI)](ncei-geographic-locations-june-1-2017.jpg \"NOAA's National Centers for Environmental Information (NCEI)\")](https://www.ncei.noaa.gov/about)\n",
    "\n",
    "[![Mapillary](mapillary.png \"Mapillary\")](https://www.mapillary.com/app/?focus=photo&pKey=ZA-8ud-IbXRzCwo9SpLVWg&lat=44.80894437688892&lng=-72.21556412955556&z=17&signs=true&detections=true)\n",
    "\n",
    "\n",
    "\n",
    "\n",
    "Traffic accident data from the Vermont Open Geodata Portal.\n",
    "\n",
    "- [VT Crashes - 2016](http://geodata.vermont.gov/datasets/VTrans::vt-crashes-2016)\n",
    "- [VT Crashes - 2017](http://geodata.vermont.gov/datasets/VTrans::vt-crashes-2017)\n",
    "- [VT Crashes - 2018](http://geodata.vermont.gov/datasets/VTrans::vt-crashes-2018)\n",
    "\n",
    "\n",
    "\n",
    "The weather data will be retrieved from the [National Centers for Environmental Information (NCEI) Web Service API](https://www.ncdc.noaa.gov/cdo-web/webservices/v2).\n",
    "\n",
    "\n",
    "NOAA's National Centers for Environmental Information (NCEI) is responsible for preserving, monitoring, assessing, and providing public access to the Nation's treasure of climate and historical weather data and information.\n",
    "\n",
    "\n",
    "\n",
    "[Mapillary](https://www.mapillary.com/) offers a variety of free and paid services for street level imagery.\n",
    "\n",
    "\n"
   ]
  },
  {
   "cell_type": "markdown",
   "metadata": {},
   "source": [
    "# Technology Stack\n",
    "\n",
    "- [SciPy](https://www.scipy.org/) - SciPy (pronounced “Sigh Pie”) is a Python-based ecosystem of open-source software for mathematics, science, and engineering.\n",
    "- [scikit-learn](https://scikit-learn.org/stable/) - Simple and efficient tools for predictive data analysis\n",
    "- [Dask](https://dask.org/) - Dask natively scales Python\n",
    "- [Saturn Cloud](https://www.saturncloud.io) - Manage and scale team analytics in the cloud\n",
    "\n",
    "\n",
    "[![SciPy](scipy.png \"SciPy\")](https://www.scipy.org/)\n",
    "\n",
    "[![scikit-learn](scikit_learn.png \"scikit-learn\")](https://scikit-learn.org/stable/)\n",
    "\n",
    "[![Dask](dask.png \"SciPy\")](https://dask.org/)\n",
    "\n",
    "[![Saturn Cloud](saturncloud.png \"Saturn Cloud\")](https://www.saturncloud.io)\n",
    "\n",
    "\n",
    "\n",
    "\n",
    "\n",
    "\n"
   ]
  },
  {
   "cell_type": "markdown",
   "metadata": {},
   "source": [
    "# General strategy for completing the tasks involved:\n",
    "\n",
    "### 1. Complete the task on a small sample of data using Pandas and other SciPy tools.\n",
    "### 2. If needed, adapt the SciPy only solution to Dask running on a single machine\n",
    "### 3. If needed, adapt the single machine solution to a Dask cluster in the cloud.\n",
    "\n",
    "\n",
    "[![Dask](dask_dataframe.png \"Dask\")](https://dask.org//)\n",
    "\n",
    "[![Dask](task-stream-custom-etl.gif \"Dask\")](https://dask.org//)\n",
    "\n"
   ]
  },
  {
   "cell_type": "markdown",
   "metadata": {},
   "source": [
    "## Many V's of Data\n",
    "\n",
    "We started off with the 3 V's of big data but there seems to be a race to find more V's.\n",
    "\n",
    "\n",
    "\n",
    "[Volume, velocity, and variety: Understanding the three V's of big data](https://www.zdnet.com/article/volume-velocity-and-variety-understanding-the-three-vs-of-big-data/)\n",
    "\n",
    "> The original leaves out `Value` which is the most important.\n",
    "\n",
    "\n",
    "[The four V's of Data](https://www.dummies.com/careers/find-a-job/the-4-vs-of-big-data/)\n",
    ">Strangely, this article has 5 V's.\n",
    "\n",
    "\n",
    "\n",
    "[The 10 Vs of Big Data](https://tdwi.org/articles/2017/02/08/10-vs-of-big-data.aspx)\n",
    "\n",
    "> This has several that are not on our list:\n",
    "> - Validity - We are treating this as part of Veracity\n",
    "> - Vulnerability - Security of the data\n",
    "> - Volatility - How long before the data no longer has value and should be discarded\n",
    "\n",
    "\n",
    "\n",
    "[The 42 V's of Big Data and Data Science](https://www.elderresearch.com/blog/42-v-of-big-data)\n",
    "\n",
    "> Now we need data science to study the V's buzzword inflation. Tom Shafer does a pretty good job of it.\n",
    "\n",
    "\n",
    "\n",
    "#### Peer review journal article\n",
    "\n",
    "This article mentions both the 3 V's and 7 V's of Big Data:\n",
    "\n",
    "[Data Science Algorithms and Techniques for Smart Healthcare Using IoT and Big Data Analytics: Towards Smarter Algorithms](https://www.researchgate.net/publication/330723399_Data_Science_Algorithms_and_Techniques_for_Smart_Healthcare_Using_IoT_and_Big_Data_Analytics_Towards_Smarter_Algorithms)\n",
    "\n",
    "\n",
    "\n",
    "\n",
    "\n",
    "# The most important V of data:\n",
    "\n",
    "- ## Value"
   ]
  },
  {
   "cell_type": "markdown",
   "metadata": {},
   "source": [
    "<iframe width=\"640\" height=\"320\" src=\"https://embed-v1.mapillary.com/embed?version=1&filter=%5B%22all%22%5D&map_filter=%5B%22all%22%5D&map_style=Mapillary streets&image_key=H2253z5L0jAEsGcLp7amfw&x=0.5000000000000001&y=0.5&client_id=MWlUMjBCenlpLXp0OWk0NXhqODJfdzplNzcxMzc4YTZjN2Y3NzVm&style=split\" frameborder=\"0\"></iframe>"
   ]
  }
 ],
 "metadata": {
  "kernelspec": {
   "display_name": "Python [conda env:holoviz-weather]",
   "language": "python",
   "name": "conda-env-holoviz-weather-py"
  },
  "language_info": {
   "codemirror_mode": {
    "name": "ipython",
    "version": 3
   },
   "file_extension": ".py",
   "mimetype": "text/x-python",
   "name": "python",
   "nbconvert_exporter": "python",
   "pygments_lexer": "ipython3",
   "version": "3.7.5"
  }
 },
 "nbformat": 4,
 "nbformat_minor": 4
}
